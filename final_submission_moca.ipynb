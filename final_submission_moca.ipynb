{
  "metadata": {
    "kernelspec": {
      "language": "python",
      "display_name": "Python 3",
      "name": "python3"
    },
    "language_info": {
      "pygments_lexer": "ipython3",
      "nbconvert_exporter": "python",
      "version": "3.6.4",
      "file_extension": ".py",
      "codemirror_mode": {
        "name": "ipython",
        "version": 3
      },
      "name": "python",
      "mimetype": "text/x-python"
    },
    "colab": {
      "name": "final_submission_moca.ipynb",
      "provenance": [],
      "collapsed_sections": []
    }
  },
  "nbformat_minor": 0,
  "nbformat": 4,
  "cells": [
    {
      "cell_type": "code",
      "source": [
        "import numpy as np\n",
        "import pandas as pd\n",
        "import matplotlib.pyplot as plt\n",
        "import seaborn as sns\n",
        "import sklearn"
      ],
      "metadata": {
        "id": "AiuTL_95t8mn",
        "execution": {
          "iopub.status.busy": "2022-04-10T12:25:12.729314Z",
          "iopub.execute_input": "2022-04-10T12:25:12.729735Z",
          "iopub.status.idle": "2022-04-10T12:25:12.734339Z",
          "shell.execute_reply.started": "2022-04-10T12:25:12.729695Z",
          "shell.execute_reply": "2022-04-10T12:25:12.733527Z"
        },
        "trusted": true
      },
      "execution_count": null,
      "outputs": []
    },
    {
      "cell_type": "code",
      "source": [
        "import plotly.express as px\n",
        "from plotly.subplots import make_subplots\n",
        "import plotly.graph_objs as go"
      ],
      "metadata": {
        "id": "ocfw7w5Xv9PC",
        "execution": {
          "iopub.status.busy": "2022-04-10T12:25:12.752799Z",
          "iopub.execute_input": "2022-04-10T12:25:12.753059Z",
          "iopub.status.idle": "2022-04-10T12:25:12.756874Z",
          "shell.execute_reply.started": "2022-04-10T12:25:12.753033Z",
          "shell.execute_reply": "2022-04-10T12:25:12.756091Z"
        },
        "trusted": true
      },
      "execution_count": null,
      "outputs": []
    },
    {
      "cell_type": "code",
      "source": [
        "# from google.colab import drive\n",
        "# drive.mount('/content/drive')"
      ],
      "metadata": {
        "id": "1-zYhzQsvUYR",
        "execution": {
          "iopub.status.busy": "2022-04-10T12:25:12.784386Z",
          "iopub.execute_input": "2022-04-10T12:25:12.785156Z",
          "iopub.status.idle": "2022-04-10T12:25:12.788414Z",
          "shell.execute_reply.started": "2022-04-10T12:25:12.785113Z",
          "shell.execute_reply": "2022-04-10T12:25:12.787838Z"
        },
        "trusted": true
      },
      "execution_count": null,
      "outputs": []
    },
    {
      "cell_type": "code",
      "source": [
        "df_train=pd.read_csv('../input/cassandra-udyam-2022/trainData.csv')"
      ],
      "metadata": {
        "id": "mPwd_WQhwLBS",
        "execution": {
          "iopub.status.busy": "2022-04-10T12:25:12.817509Z",
          "iopub.execute_input": "2022-04-10T12:25:12.818386Z",
          "iopub.status.idle": "2022-04-10T12:25:12.848485Z",
          "shell.execute_reply.started": "2022-04-10T12:25:12.818345Z",
          "shell.execute_reply": "2022-04-10T12:25:12.847608Z"
        },
        "trusted": true
      },
      "execution_count": null,
      "outputs": []
    },
    {
      "cell_type": "code",
      "source": [
        "df_train.head()"
      ],
      "metadata": {
        "id": "RkO_asucyWYf",
        "execution": {
          "iopub.status.busy": "2022-04-10T12:25:12.849924Z",
          "iopub.execute_input": "2022-04-10T12:25:12.850148Z",
          "iopub.status.idle": "2022-04-10T12:25:12.864854Z",
          "shell.execute_reply.started": "2022-04-10T12:25:12.850121Z",
          "shell.execute_reply": "2022-04-10T12:25:12.864163Z"
        },
        "trusted": true
      },
      "execution_count": null,
      "outputs": []
    },
    {
      "cell_type": "code",
      "source": [
        "df_train.dtypes"
      ],
      "metadata": {
        "id": "s4NDGtmtyYar",
        "execution": {
          "iopub.status.busy": "2022-04-10T12:25:12.866469Z",
          "iopub.execute_input": "2022-04-10T12:25:12.86696Z",
          "iopub.status.idle": "2022-04-10T12:25:12.879936Z",
          "shell.execute_reply.started": "2022-04-10T12:25:12.866927Z",
          "shell.execute_reply": "2022-04-10T12:25:12.879032Z"
        },
        "trusted": true
      },
      "execution_count": null,
      "outputs": []
    },
    {
      "cell_type": "code",
      "source": [
        "df_train.describe() "
      ],
      "metadata": {
        "id": "SOcK_EykyeYO",
        "execution": {
          "iopub.status.busy": "2022-04-10T12:25:12.881325Z",
          "iopub.execute_input": "2022-04-10T12:25:12.881556Z",
          "iopub.status.idle": "2022-04-10T12:25:12.909574Z",
          "shell.execute_reply.started": "2022-04-10T12:25:12.88152Z",
          "shell.execute_reply": "2022-04-10T12:25:12.908806Z"
        },
        "trusted": true
      },
      "execution_count": null,
      "outputs": []
    },
    {
      "cell_type": "code",
      "source": [
        "len(df_train)"
      ],
      "metadata": {
        "id": "2FV-ZJY0ygZw",
        "execution": {
          "iopub.status.busy": "2022-04-10T12:25:12.91108Z",
          "iopub.execute_input": "2022-04-10T12:25:12.911326Z",
          "iopub.status.idle": "2022-04-10T12:25:12.916253Z",
          "shell.execute_reply.started": "2022-04-10T12:25:12.911289Z",
          "shell.execute_reply": "2022-04-10T12:25:12.915667Z"
        },
        "trusted": true
      },
      "execution_count": null,
      "outputs": []
    },
    {
      "cell_type": "code",
      "source": [
        "df_train.isnull().sum()"
      ],
      "metadata": {
        "id": "U9YzleTEzGSH",
        "execution": {
          "iopub.status.busy": "2022-04-10T12:25:12.917126Z",
          "iopub.execute_input": "2022-04-10T12:25:12.917684Z",
          "iopub.status.idle": "2022-04-10T12:25:12.93429Z",
          "shell.execute_reply.started": "2022-04-10T12:25:12.91765Z",
          "shell.execute_reply": "2022-04-10T12:25:12.933665Z"
        },
        "trusted": true
      },
      "execution_count": null,
      "outputs": []
    },
    {
      "cell_type": "code",
      "source": [
        "coun_t  = df_train.nunique().to_frame(name = 'Counts')\n",
        "coun_t"
      ],
      "metadata": {
        "id": "JjUVy1TVhLPn",
        "execution": {
          "iopub.status.busy": "2022-04-10T12:25:12.935907Z",
          "iopub.execute_input": "2022-04-10T12:25:12.936393Z",
          "iopub.status.idle": "2022-04-10T12:25:12.953677Z",
          "shell.execute_reply.started": "2022-04-10T12:25:12.93636Z",
          "shell.execute_reply": "2022-04-10T12:25:12.953067Z"
        },
        "trusted": true
      },
      "execution_count": null,
      "outputs": []
    },
    {
      "cell_type": "code",
      "source": [
        "from datetime import time, date, datetime"
      ],
      "metadata": {
        "id": "FEuoJrwQz-RE",
        "execution": {
          "iopub.status.busy": "2022-04-10T12:25:12.981486Z",
          "iopub.execute_input": "2022-04-10T12:25:12.982357Z",
          "iopub.status.idle": "2022-04-10T12:25:12.986277Z",
          "shell.execute_reply.started": "2022-04-10T12:25:12.98231Z",
          "shell.execute_reply": "2022-04-10T12:25:12.9854Z"
        },
        "trusted": true
      },
      "execution_count": null,
      "outputs": []
    },
    {
      "cell_type": "code",
      "source": [
        "def convertInt(df):\n",
        "  df['Amount'] = df['Amount'].astype('int')\n",
        "  df['Settled'] = df['Settled'].astype('int')\n",
        "  df['Outstanding_1'] = (df['Amount'] - df['Settled']).astype('int')\n",
        "  df.drop(['Outstanding'], axis=1, inplace=True)\n",
        "  return df"
      ],
      "metadata": {
        "id": "U4CmbquzAgL9",
        "execution": {
          "iopub.status.busy": "2022-04-10T12:25:12.987689Z",
          "iopub.execute_input": "2022-04-10T12:25:12.988056Z",
          "iopub.status.idle": "2022-04-10T12:25:12.999304Z",
          "shell.execute_reply.started": "2022-04-10T12:25:12.988025Z",
          "shell.execute_reply": "2022-04-10T12:25:12.998445Z"
        },
        "trusted": true
      },
      "execution_count": null,
      "outputs": []
    },
    {
      "cell_type": "code",
      "source": [
        "def convertDate(df):\n",
        "  df['Hours'] = pd.to_datetime(df['Created']).dt.time\n",
        "  df['Hours'] = df.Hours.apply(lambda x: x.hour)\n",
        "  df['Hours']=df['Hours'].astype(int)\n",
        "\n",
        "  df['Invoice_Date'] = pd.to_datetime(df['Invoice_Date']).dt.date\n",
        "  df['Due_Date'] = pd.to_datetime(df['Due_Date']).dt.date\n",
        "  df['Diff_Date'] = (df['Due_Date'] - df['Invoice_Date']).dt.days\n",
        "  \n",
        "  return df"
      ],
      "metadata": {
        "id": "PkEzfDAAchzu",
        "execution": {
          "iopub.status.busy": "2022-04-10T12:25:13.004701Z",
          "iopub.execute_input": "2022-04-10T12:25:13.005098Z",
          "iopub.status.idle": "2022-04-10T12:25:13.012432Z",
          "shell.execute_reply.started": "2022-04-10T12:25:13.005056Z",
          "shell.execute_reply": "2022-04-10T12:25:13.011761Z"
        },
        "trusted": true
      },
      "execution_count": null,
      "outputs": []
    },
    {
      "cell_type": "code",
      "source": [
        "def processDate(df):\n",
        "    print(df.info())\n",
        "    # df['Date'] = df['Date'].apply(lambda x:datetime.strptime(x, \"%d/%m/%Y\").strftime(\"%Y-%m-%d\"))\n",
        "    df['Created'] = pd.to_datetime(df['Created'])\n",
        "    df['year_c'] = pd.to_datetime(df['Created']).dt.year\n",
        "    df['month_c'] = pd.to_datetime(df['Created']).dt.month\n",
        "    df['day_c'] = df['Created'].apply(lambda x : x.dayofweek)\n",
        "    df.drop(['Created'], axis=1, inplace=True)\n",
        "    \n",
        "    df['Invoice_Date'] = pd.to_datetime(df['Invoice_Date'])\n",
        "    df['year_i'] = pd.to_datetime(df['Invoice_Date']).dt.year\n",
        "    df['month_i'] = pd.to_datetime(df['Invoice_Date']).dt.month\n",
        "    df['day_i'] = df['Invoice_Date'].apply(lambda x : x.dayofweek)\n",
        "    df.drop(['Invoice_Date'], axis=1, inplace=True)\n",
        "\n",
        "    df['Due_Date'] = pd.to_datetime(df['Due_Date'])\n",
        "    df['year_d'] = pd.to_datetime(df['Due_Date']).dt.year\n",
        "    df['month_d'] = pd.to_datetime(df['Due_Date']).dt.month\n",
        "    df['day_d'] = df['Due_Date'].apply(lambda x : x.dayofweek)\n",
        "    df.drop(['Due_Date'], axis=1, inplace=True)\n",
        "    return df"
      ],
      "metadata": {
        "id": "W5omOzrwiZTy",
        "execution": {
          "iopub.status.busy": "2022-04-10T12:25:13.036749Z",
          "iopub.execute_input": "2022-04-10T12:25:13.037219Z",
          "iopub.status.idle": "2022-04-10T12:25:13.048702Z",
          "shell.execute_reply.started": "2022-04-10T12:25:13.037175Z",
          "shell.execute_reply": "2022-04-10T12:25:13.047532Z"
        },
        "trusted": true
      },
      "execution_count": null,
      "outputs": []
    },
    {
      "cell_type": "code",
      "source": [
        "def neg_values(df):\n",
        "  indexNames = df[ df['Number_of_Days_until_Payment'] < 0 ].index\n",
        "  df.drop(indexNames , inplace=True)\n",
        "  return df"
      ],
      "metadata": {
        "id": "1B2gHeQ6yEDP",
        "execution": {
          "iopub.status.busy": "2022-04-10T12:25:13.050679Z",
          "iopub.execute_input": "2022-04-10T12:25:13.050985Z",
          "iopub.status.idle": "2022-04-10T12:25:13.064809Z",
          "shell.execute_reply.started": "2022-04-10T12:25:13.050942Z",
          "shell.execute_reply": "2022-04-10T12:25:13.064088Z"
        },
        "trusted": true
      },
      "execution_count": null,
      "outputs": []
    },
    {
      "cell_type": "code",
      "source": [
        "def getDataframe(Vendor_Name, pred):\n",
        "    sub=pd.DataFrame([Vendor_Name, pred])\n",
        "    sub=sub.transpose()\n",
        "    sub.columns=['Vendor_Name', 'Number_of_Days_until_Payment']\n",
        "    sub['Number_of_Days_until_Payment'] = sub['Number_of_Days_until_Payment'].apply(np.floor)\n",
        "    sub['Vendor_Name']=sub['Vendor_Name'].astype(object)\n",
        "    sub.to_csv('submission.csv', index=False)\n",
        "    \n",
        "    return sub"
      ],
      "metadata": {
        "id": "6iu9lOiCkhmz",
        "execution": {
          "iopub.status.busy": "2022-04-10T12:25:16.316346Z",
          "iopub.execute_input": "2022-04-10T12:25:16.316882Z",
          "iopub.status.idle": "2022-04-10T12:25:16.322153Z",
          "shell.execute_reply.started": "2022-04-10T12:25:16.316849Z",
          "shell.execute_reply": "2022-04-10T12:25:16.321335Z"
        },
        "trusted": true
      },
      "execution_count": null,
      "outputs": []
    },
    {
      "cell_type": "code",
      "source": [
        "convertDate(df_train)\n",
        "processDate(df_train)\n",
        "convertInt(df_train)\n",
        "neg_values(df_train)"
      ],
      "metadata": {
        "id": "XEKU98w7FSGp",
        "execution": {
          "iopub.status.busy": "2022-04-10T12:25:16.323676Z",
          "iopub.execute_input": "2022-04-10T12:25:16.324309Z",
          "iopub.status.idle": "2022-04-10T12:25:18.197295Z",
          "shell.execute_reply.started": "2022-04-10T12:25:16.324274Z",
          "shell.execute_reply": "2022-04-10T12:25:18.196436Z"
        },
        "trusted": true
      },
      "execution_count": null,
      "outputs": []
    },
    {
      "cell_type": "code",
      "source": [
        "df_train.head()"
      ],
      "metadata": {
        "id": "Iz9uMB2yFp6A",
        "execution": {
          "iopub.status.busy": "2022-04-10T12:25:18.217861Z",
          "iopub.execute_input": "2022-04-10T12:25:18.218274Z",
          "iopub.status.idle": "2022-04-10T12:25:18.235663Z",
          "shell.execute_reply.started": "2022-04-10T12:25:18.218243Z",
          "shell.execute_reply": "2022-04-10T12:25:18.234823Z"
        },
        "trusted": true
      },
      "execution_count": null,
      "outputs": []
    },
    {
      "cell_type": "code",
      "source": [
        "df_train.drop('Description', axis = 1, inplace = True)"
      ],
      "metadata": {
        "id": "GHVSPKwSkEMC",
        "execution": {
          "iopub.status.busy": "2022-04-10T12:25:18.236822Z",
          "iopub.execute_input": "2022-04-10T12:25:18.237649Z",
          "iopub.status.idle": "2022-04-10T12:25:18.24377Z",
          "shell.execute_reply.started": "2022-04-10T12:25:18.237606Z",
          "shell.execute_reply": "2022-04-10T12:25:18.243105Z"
        },
        "trusted": true
      },
      "execution_count": null,
      "outputs": []
    },
    {
      "cell_type": "code",
      "source": [
        "label=df_train['Number_of_Days_until_Payment']\n",
        "print(label)"
      ],
      "metadata": {
        "id": "b2_wwHhQCmmH",
        "execution": {
          "iopub.status.busy": "2022-04-10T12:25:18.246332Z",
          "iopub.execute_input": "2022-04-10T12:25:18.246846Z",
          "iopub.status.idle": "2022-04-10T12:25:18.256024Z",
          "shell.execute_reply.started": "2022-04-10T12:25:18.246796Z",
          "shell.execute_reply": "2022-04-10T12:25:18.255325Z"
        },
        "trusted": true
      },
      "execution_count": null,
      "outputs": []
    },
    {
      "cell_type": "code",
      "source": [
        "x_train=df_train\n",
        "# x_train.drop(['Number_of_Days_until_Payment'], axis=1, inplace=True)\n",
        "x_train.drop(['Vendor_Name', 'Number_of_Days_until_Payment' ], axis=1, inplace=True)\n",
        "x_train.head()"
      ],
      "metadata": {
        "id": "p7Tyq1kNH5y-",
        "execution": {
          "iopub.status.busy": "2022-04-10T12:25:18.25699Z",
          "iopub.execute_input": "2022-04-10T12:25:18.25738Z",
          "iopub.status.idle": "2022-04-10T12:25:18.276227Z",
          "shell.execute_reply.started": "2022-04-10T12:25:18.257349Z",
          "shell.execute_reply": "2022-04-10T12:25:18.275628Z"
        },
        "trusted": true
      },
      "execution_count": null,
      "outputs": []
    },
    {
      "cell_type": "code",
      "source": [
        "DF=pd.read_csv('../input/cassandra-udyam-2022/testData.csv')\n",
        "X_test=DF\n",
        "data=DF\n",
        "Vendor_Name =X_test['Vendor_Name'].astype(object)\n",
        "X_test.drop(['Description'], axis=1, inplace=True)\n",
        "X_test.drop(['Vendor_Name'], axis=1, inplace=True)"
      ],
      "metadata": {
        "id": "pFJG17ySI1oX",
        "execution": {
          "iopub.status.busy": "2022-04-10T12:25:18.277157Z",
          "iopub.execute_input": "2022-04-10T12:25:18.277793Z",
          "iopub.status.idle": "2022-04-10T12:25:18.294898Z",
          "shell.execute_reply.started": "2022-04-10T12:25:18.277762Z",
          "shell.execute_reply": "2022-04-10T12:25:18.293965Z"
        },
        "trusted": true
      },
      "execution_count": null,
      "outputs": []
    },
    {
      "cell_type": "code",
      "source": [
        "Vendor_Name"
      ],
      "metadata": {
        "id": "WnO-Olpem3ML",
        "execution": {
          "iopub.status.busy": "2022-04-10T12:25:18.296217Z",
          "iopub.execute_input": "2022-04-10T12:25:18.296528Z",
          "iopub.status.idle": "2022-04-10T12:25:18.303758Z",
          "shell.execute_reply.started": "2022-04-10T12:25:18.296494Z",
          "shell.execute_reply": "2022-04-10T12:25:18.302918Z"
        },
        "trusted": true
      },
      "execution_count": null,
      "outputs": []
    },
    {
      "cell_type": "code",
      "source": [
        "X_test.head()"
      ],
      "metadata": {
        "id": "PRWFCqRSwmlL",
        "execution": {
          "iopub.status.busy": "2022-04-10T12:25:18.305685Z",
          "iopub.execute_input": "2022-04-10T12:25:18.306007Z",
          "iopub.status.idle": "2022-04-10T12:25:18.32104Z",
          "shell.execute_reply.started": "2022-04-10T12:25:18.305979Z",
          "shell.execute_reply": "2022-04-10T12:25:18.320444Z"
        },
        "trusted": true
      },
      "execution_count": null,
      "outputs": []
    },
    {
      "cell_type": "code",
      "source": [
        "X_test = convertDate(X_test)\n",
        "X_test=processDate(X_test)\n",
        "X_test = convertInt(X_test)"
      ],
      "metadata": {
        "id": "hrt4HVRBMEkX",
        "execution": {
          "iopub.status.busy": "2022-04-10T12:25:18.322121Z",
          "iopub.execute_input": "2022-04-10T12:25:18.322576Z",
          "iopub.status.idle": "2022-04-10T12:25:18.698178Z",
          "shell.execute_reply.started": "2022-04-10T12:25:18.322548Z",
          "shell.execute_reply": "2022-04-10T12:25:18.697204Z"
        },
        "trusted": true
      },
      "execution_count": null,
      "outputs": []
    },
    {
      "cell_type": "code",
      "source": [
        "from sklearn.model_selection import train_test_split\n",
        "from sklearn.ensemble import GradientBoostingRegressor\n",
        "from sklearn.preprocessing import StandardScaler\n"
      ],
      "metadata": {
        "id": "95Vr4juKNw2T",
        "execution": {
          "iopub.status.busy": "2022-04-10T12:25:18.699362Z",
          "iopub.execute_input": "2022-04-10T12:25:18.699582Z",
          "iopub.status.idle": "2022-04-10T12:25:18.704164Z",
          "shell.execute_reply.started": "2022-04-10T12:25:18.699556Z",
          "shell.execute_reply": "2022-04-10T12:25:18.703352Z"
        },
        "trusted": true
      },
      "execution_count": null,
      "outputs": []
    },
    {
      "cell_type": "code",
      "source": [
        "x1, x2, y1, y2 = train_test_split(x_train, label, test_size=0.1, random_state=42)\n",
        "\n",
        "sc = StandardScaler()\n",
        "X_train_std = sc.fit_transform(x1)#doubt#\n",
        "# X_test_std = sc.transform(x2)\n",
        "X_test_std = sc.transform(x2)"
      ],
      "metadata": {
        "id": "JXbglDCxM3uw",
        "execution": {
          "iopub.status.busy": "2022-04-10T12:25:18.705486Z",
          "iopub.execute_input": "2022-04-10T12:25:18.706173Z",
          "iopub.status.idle": "2022-04-10T12:25:18.724251Z",
          "shell.execute_reply.started": "2022-04-10T12:25:18.706133Z",
          "shell.execute_reply": "2022-04-10T12:25:18.723651Z"
        },
        "trusted": true
      },
      "execution_count": null,
      "outputs": []
    },
    {
      "cell_type": "code",
      "source": [
        "gbr_params = {'n_estimators': 1000,\n",
        "          'max_depth': 15,\n",
        "          'min_samples_split': 5,\n",
        "          'learning_rate': 0.1,\n",
        "          'loss': 'squared_error'}\n",
        "\n",
        "gbr = GradientBoostingRegressor(**gbr_params)\n",
        "gbr.fit(X_train_std, y1)\n",
        "\n",
        "print(gbr.score(X_test_std, y2))\n",
        "X_std=sc.transform(X_test)\n",
        "pred=gbr.predict(X_std)\n",
        "# pred = pred.astype(int)\n",
        "print(getDataframe(Vendor_Name, pred))"
      ],
      "metadata": {
        "id": "yOgZi4EjOG9c",
        "execution": {
          "iopub.status.busy": "2022-04-10T12:25:18.725513Z",
          "iopub.execute_input": "2022-04-10T12:25:18.726011Z",
          "iopub.status.idle": "2022-04-10T12:26:03.860066Z",
          "shell.execute_reply.started": "2022-04-10T12:25:18.725972Z",
          "shell.execute_reply": "2022-04-10T12:26:03.85921Z"
        },
        "trusted": true
      },
      "execution_count": null,
      "outputs": []
    }
  ]
}